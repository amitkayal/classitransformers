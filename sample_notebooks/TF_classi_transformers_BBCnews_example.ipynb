{
 "cells": [
  {
   "cell_type": "markdown",
   "metadata": {},
   "source": [
    "# Tensorflow Framework for Multi-class Text Classification"
   ]
  },
  {
   "cell_type": "markdown",
   "metadata": {},
   "source": [
    "## BBC News Classification - 5 Class Problem\n",
    "\n",
    "* Consists of 2225 documents from the BBC news website corresponding to stories in five topical areas from 2004-2005.\n",
    "* Class Labels: 5 <br/>\n",
    "\n",
    "    0 - Business <br/>\n",
    "    1 - Sport <br/>\n",
    "    2 - Politics <br/> \n",
    "    3 - Tech <br/>\n",
    "    4 - Entertainment "
   ]
  },
  {
   "cell_type": "markdown",
   "metadata": {},
   "source": [
    "## Reading Data"
   ]
  },
  {
   "cell_type": "code",
   "execution_count": 1,
   "metadata": {},
   "outputs": [],
   "source": [
    "import sys\n",
    "import numpy as np\n",
    "import pandas as pd\n",
    "\n",
    "sys.path.append(\"..\")\n",
    "pd.set_option('display.max_colwidth', -1)"
   ]
  },
  {
   "cell_type": "code",
   "execution_count": 2,
   "metadata": {},
   "outputs": [
    {
     "data": {
      "text/plain": [
       "((1424, 3), (445, 2), (356, 3))"
      ]
     },
     "execution_count": 2,
     "metadata": {},
     "output_type": "execute_result"
    }
   ],
   "source": [
    "df_train = pd.read_csv('../datasets/bbcfull/train.csv')\n",
    "df_test = pd.read_csv('../datasets/bbcfull/test.csv')\n",
    "df_score = pd.read_csv('../datasets/bbcfull/test_with_label.csv')\n",
    "df_val = pd.read_csv('../datasets/bbcfull/dev.csv')\n",
    "df_train.shape, df_test.shape, df_val.shape"
   ]
  },
  {
   "cell_type": "code",
   "execution_count": 3,
   "metadata": {},
   "outputs": [
    {
     "data": {
      "text/plain": [
       "1    327\n",
       "0    326\n",
       "2    267\n",
       "3    257\n",
       "4    247\n",
       "Name: label, dtype: int64"
      ]
     },
     "execution_count": 3,
     "metadata": {},
     "output_type": "execute_result"
    }
   ],
   "source": [
    "df_train.label.value_counts()"
   ]
  },
  {
   "cell_type": "code",
   "execution_count": 4,
   "metadata": {},
   "outputs": [
    {
     "data": {
      "text/plain": [
       "1    82\n",
       "0    82\n",
       "2    66\n",
       "3    64\n",
       "4    62\n",
       "Name: label, dtype: int64"
      ]
     },
     "execution_count": 4,
     "metadata": {},
     "output_type": "execute_result"
    }
   ],
   "source": [
    "df_val.label.value_counts()"
   ]
  },
  {
   "cell_type": "code",
   "execution_count": 5,
   "metadata": {},
   "outputs": [
    {
     "data": {
      "text/plain": [
       "1    102\n",
       "0    102\n",
       "2    84 \n",
       "3    80 \n",
       "4    77 \n",
       "Name: label, dtype: int64"
      ]
     },
     "execution_count": 5,
     "metadata": {},
     "output_type": "execute_result"
    }
   ],
   "source": [
    "df_score.label.value_counts()"
   ]
  },
  {
   "cell_type": "markdown",
   "metadata": {},
   "source": [
    "## Training Bert/Electra classifier with FrameWork"
   ]
  },
  {
   "cell_type": "code",
   "execution_count": 6,
   "metadata": {},
   "outputs": [
    {
     "name": "stdout",
     "output_type": "stream",
     "text": [
      "WARNING:tensorflow:From /home/ec2-user/anaconda3/envs/tensorflow_p36/lib/python3.6/site-packages/tensorflow_core/__init__.py:1467: The name tf.estimator.inputs is deprecated. Please use tf.compat.v1.estimator.inputs instead.\n",
      "\n"
     ]
    }
   ],
   "source": [
    "from classitransformers.report import metrics\n",
    "from classitransformers.configs import Configs\n",
    "\n",
    "from classitransformers.tfelectra import ElectraClassification #(for using Electra)\n",
    "\n",
    "#from classitransformers.tfbert import BertClassification"
   ]
  },
  {
   "cell_type": "markdown",
   "metadata": {},
   "source": [
    "## Set Configurations\n",
    "\n",
    "* Pre-trained folderpath\n",
    "* labels list\n",
    "* train, test and eval batch size\n",
    "* max_seq_len - how long is the each text input sentence !!\n",
    "* data_dir - data path folder (optional)\n",
    "* output_dir - output path folder (optional)"
   ]
  },
  {
   "cell_type": "code",
   "execution_count": 7,
   "metadata": {},
   "outputs": [
    {
     "name": "stdout",
     "output_type": "stream",
     "text": [
      "================================================================================\n",
      "Config: model=electra, trial 1/1\n",
      "================================================================================\n",
      "data_dir ../datasets/bbcfull/\n",
      "do_eval True\n",
      "do_lower_case True\n",
      "do_predict False\n",
      "do_train True\n",
      "embedding_size None\n",
      "eval_batch_size 8\n",
      "gcp_project None\n",
      "init_checkpoint ../models/Electra_base/\n",
      "iterations_per_loop 1000\n",
      "keep_all_models True\n",
      "label_list ['0', '1', '2', '3', '4']\n",
      "layerwise_lr_decay 0.8\n",
      "learning_rate 5e-05\n",
      "log_examples False\n",
      "master None\n",
      "max_seq_length 256\n",
      "model_hparam_overrides {}\n",
      "model_name electra\n",
      "model_size base\n",
      "num_tpu_cores 1\n",
      "num_train_epochs 3\n",
      "num_trials 1\n",
      "output_dir ../electra_output_bbcfull/\n",
      "predict_batch_size 8\n",
      "pretrained_model_dir ../models/Electra_base/\n",
      "save_checkpoints_steps 1000000\n",
      "task_names ['textclassification']\n",
      "tasks {'textclassification': {'type': 'classification', 'labels': ['0', '1', '2', '3', '4'], 'header': True, 'text_column': 1, 'label_column': 2}}\n",
      "tpu_job_name None\n",
      "tpu_name None\n",
      "tpu_zone None\n",
      "train_batch_size 16\n",
      "use_tfrecords_if_existing False\n",
      "use_tpu False\n",
      "vocab_file ../models/Electra_base/vocab.txt\n",
      "vocab_size 30522\n",
      "warmup_proportion 0.1\n",
      "weight_decay_rate 0.01\n",
      "\n",
      "Loading dataset textclassification_train\n",
      "Existing tfrecords not found so creating\n",
      "Writing example 0 of 1424\n"
     ]
    }
   ],
   "source": [
    "# config = Configs(pretrained_model_dir = '../models/Bert_base',\n",
    "#                  model_name = 'bert'\n",
    "#                  num_train_epochs = 3,\n",
    "#                  train_batch_size = 16, \n",
    "#                  eval_batch_size = 8, \n",
    "#                  predict_batch_size = 8, \n",
    "#                  do_train = True, \n",
    "#                  do_eval = True, \n",
    "#                  label_list = [\"0\", \"1\", \"2\", \"3\", \"4\"], \n",
    "#                  max_seq_length = 256, \n",
    "#                  data_dir='../datasets/bbcfull/',\n",
    "#                  output_dir = '../bert_output_bbcfull/')\n",
    "\n",
    "\n",
    "#model = BertClassification(config)\n",
    "\n",
    "\n",
    "config = Configs(pretrained_model_dir = '../models/Electra_base/',\n",
    "              model_name = 'electra',\n",
    "              num_train_epochs=3, \n",
    "              train_batch_size = 16,\n",
    "              eval_batch_size = 8, \n",
    "              do_train = True, \n",
    "              do_eval = True, \n",
    "              label_list = [\"0\", \"1\", \"2\", \"3\", \"4\"],\n",
    "              max_seq_length = 256,\n",
    "              data_dir = \"../datasets/bbcfull/\", \n",
    "              output_dir = \"../electra_output_bbcfull/\")\n",
    "\n",
    "model = ElectraClassification(config) "
   ]
  },
  {
   "cell_type": "markdown",
   "metadata": {},
   "source": [
    "## Train Method"
   ]
  },
  {
   "cell_type": "code",
   "execution_count": 8,
   "metadata": {
    "scrolled": true
   },
   "outputs": [
    {
     "name": "stdout",
     "output_type": "stream",
     "text": [
      "================================================================================\n",
      "Start training\n",
      "================================================================================\n",
      "Training for 267 steps\n",
      "Building model...\n",
      "Building complete\n",
      "10/267 = 3.7%, SPS: 0.3, ELAP: 32, ETA: 13:30 - loss: 24.9692\n",
      "20/267 = 7.5%, SPS: 0.4, ELAP: 49, ETA: 10:00 - loss: 22.0914\n",
      "30/267 = 11.2%, SPS: 0.5, ELAP: 1:06, ETA: 8:38 - loss: 10.4456\n",
      "40/267 = 15.0%, SPS: 0.5, ELAP: 1:23, ETA: 7:49 - loss: 4.9485\n",
      "50/267 = 18.7%, SPS: 0.5, ELAP: 1:40, ETA: 7:13 - loss: 11.9883\n",
      "60/267 = 22.5%, SPS: 0.5, ELAP: 1:57, ETA: 6:44 - loss: 1.3170\n",
      "70/267 = 26.2%, SPS: 0.5, ELAP: 2:14, ETA: 6:17 - loss: 3.1973\n",
      "80/267 = 30.0%, SPS: 0.5, ELAP: 2:31, ETA: 5:54 - loss: 0.4818\n",
      "90/267 = 33.7%, SPS: 0.5, ELAP: 2:48, ETA: 5:31 - loss: 4.8838\n",
      "100/267 = 37.5%, SPS: 0.5, ELAP: 3:05, ETA: 5:10 - loss: 0.1226\n",
      "110/267 = 41.2%, SPS: 0.5, ELAP: 3:22, ETA: 4:49 - loss: 13.2960\n",
      "120/267 = 44.9%, SPS: 0.5, ELAP: 3:40, ETA: 4:29 - loss: 5.2097\n",
      "130/267 = 48.7%, SPS: 0.5, ELAP: 3:57, ETA: 4:09 - loss: 1.4426\n",
      "140/267 = 52.4%, SPS: 0.6, ELAP: 4:14, ETA: 3:50 - loss: 0.0053\n",
      "150/267 = 56.2%, SPS: 0.6, ELAP: 4:31, ETA: 3:31 - loss: 0.0025\n",
      "160/267 = 59.9%, SPS: 0.6, ELAP: 4:48, ETA: 3:13 - loss: 0.3520\n",
      "170/267 = 63.7%, SPS: 0.6, ELAP: 5:06, ETA: 2:54 - loss: 0.0028\n",
      "180/267 = 67.4%, SPS: 0.6, ELAP: 5:23, ETA: 2:36 - loss: 0.0010\n",
      "190/267 = 71.2%, SPS: 0.6, ELAP: 5:40, ETA: 2:18 - loss: 0.0012\n",
      "200/267 = 74.9%, SPS: 0.6, ELAP: 5:57, ETA: 2:00 - loss: 0.0020\n",
      "210/267 = 78.7%, SPS: 0.6, ELAP: 6:14, ETA: 1:42 - loss: 0.0011\n",
      "220/267 = 82.4%, SPS: 0.6, ELAP: 6:31, ETA: 1:24 - loss: 6.7390\n",
      "230/267 = 86.1%, SPS: 0.6, ELAP: 6:49, ETA: 1:06 - loss: 0.0008\n",
      "240/267 = 89.9%, SPS: 0.6, ELAP: 7:06, ETA: 48 - loss: 0.0013\n",
      "250/267 = 93.6%, SPS: 0.6, ELAP: 7:23, ETA: 30 - loss: 0.0005\n",
      "260/267 = 97.4%, SPS: 0.6, ELAP: 7:40, ETA: 12 - loss: 1.2932\n",
      "================================================================================\n",
      "Training Finished\n",
      "================================================================================\n",
      "================================================================================\n",
      "Start Evaluation\n",
      "================================================================================\n",
      "Evaluating textclassification\n",
      "Loading dataset textclassification_dev\n",
      "Existing tfrecords not found so creating\n",
      "Writing example 0 of 356\n",
      "Building model...\n",
      "Building complete\n",
      "textclassification: accuracy: 97.47 - loss: 0.10\n",
      "\n"
     ]
    }
   ],
   "source": [
    "model.train()"
   ]
  },
  {
   "cell_type": "markdown",
   "metadata": {},
   "source": [
    "## Test Methods"
   ]
  },
  {
   "cell_type": "code",
   "execution_count": 9,
   "metadata": {},
   "outputs": [
    {
     "name": "stdout",
     "output_type": "stream",
     "text": [
      "Writing out predictions for [Task(textclassification)] test\n",
      "Loading dataset textclassification_test\n",
      "Existing tfrecords not found so creating\n",
      "Writing example 0 of 445\n",
      "Building model...\n",
      "Building complete\n",
      "Getting predictions for 445 textclassification examples (test)\n"
     ]
    }
   ],
   "source": [
    "prediction = model.test()"
   ]
  },
  {
   "cell_type": "markdown",
   "metadata": {},
   "source": [
    "**Testing a sentence, takes a list of sentences.**"
   ]
  },
  {
   "cell_type": "code",
   "execution_count": 10,
   "metadata": {},
   "outputs": [
    {
     "name": "stdout",
     "output_type": "stream",
     "text": [
      "Writing out predictions for [Task(textclassification)] infer\n",
      "Loading dataset textclassification_infer\n",
      "Existing tfrecords not found so creating\n",
      "Writing example 0 of 1\n",
      "Building model...\n",
      "Building complete\n",
      "Getting predictions for 1 textclassification examples (infer)\n"
     ]
    },
    {
     "data": {
      "text/plain": [
       "[array([0.81033325, 0.03606391, 0.0256805 , 0.99965596, 0.10343838],\n",
       "       dtype=float32)]"
      ]
     },
     "execution_count": 10,
     "metadata": {},
     "output_type": "execute_result"
    }
   ],
   "source": [
    "model.text_inference(['He is very good in writing a book on financial investment money making strategy. There are some transactional charges but the profit we make is awesome. The business people are exchanging bulk money over trades happening every seconds. Even retailers are happy doing trade and adding sum to their investments.'])"
   ]
  },
  {
   "cell_type": "markdown",
   "metadata": {},
   "source": [
    "## Export the checkpoint model to pb (protobuf) format\n",
    "\n",
    "**In TensorFlow, the protbuf file contains the graph definition as well as the weights of the model. Thus, a pb file is all you need to be able to run a given trained model.**\n",
    "\n",
    "Only support of Bert for now"
   ]
  },
  {
   "cell_type": "code",
   "execution_count": 11,
   "metadata": {
    "scrolled": true
   },
   "outputs": [],
   "source": [
    "# Currently does not have support for Electra\n",
    "\n",
    "#model.export_model()"
   ]
  },
  {
   "cell_type": "markdown",
   "metadata": {},
   "source": [
    "## Inferencing from Trained Pb Model\n",
    "\n",
    "* This tensorflow format is used for deployment purpose."
   ]
  },
  {
   "cell_type": "code",
   "execution_count": 12,
   "metadata": {},
   "outputs": [],
   "source": [
    "# Not supported for Electra\n",
    "\n",
    "# predictions = model.inference(test_filename = '../datasets/bbcfull/test.csv', batch_size = 256)"
   ]
  },
  {
   "cell_type": "code",
   "execution_count": 13,
   "metadata": {},
   "outputs": [],
   "source": [
    "y_pred = [np.argmax(tup) for tup in prediction]\n",
    "y = df_score.label"
   ]
  },
  {
   "cell_type": "markdown",
   "metadata": {},
   "source": [
    "## Accuracy and Report"
   ]
  },
  {
   "cell_type": "code",
   "execution_count": 14,
   "metadata": {},
   "outputs": [
    {
     "name": "stdout",
     "output_type": "stream",
     "text": [
      "\n",
      "\n",
      "Accuracy: 0.975\n",
      "Precision: 0.975\n",
      "Recall: 0.975\n",
      "F1-Score: 0.975\n"
     ]
    },
    {
     "data": {
      "image/png": "[encoded data removed]",
      "text/plain": [
       "<Figure size 432x288 with 2 Axes>"
      ]
     },
     "metadata": {},
     "output_type": "display_data"
    }
   ],
   "source": [
    "metrics(y, y_pred)"
   ]
  }
 ],
 "metadata": {
  "kernelspec": {
   "display_name": "conda_tensorflow_p36",
   "language": "python",
   "name": "conda_tensorflow_p36"
  },
  "language_info": {
   "codemirror_mode": {
    "name": "ipython",
    "version": 3
   },
   "file_extension": ".py",
   "mimetype": "text/x-python",
   "name": "python",
   "nbconvert_exporter": "python",
   "pygments_lexer": "ipython3",
   "version": "3.6.10"
  }
 },
 "nbformat": 4,
 "nbformat_minor": 2
}
