{
 "cells": [
  {
   "cell_type": "markdown",
   "metadata": {},
   "source": [
    "# Pytorch  Framework for Multi-class Text Classification"
   ]
  },
  {
   "cell_type": "markdown",
   "metadata": {},
   "source": [
    "## Sentiment Classification - 3 Class Problem\n",
    "\n",
    "* Financial Phrasebank Dataset <br/>\n",
    "\n",
    "    * 0 - Positive <br/>\n",
    "    * 1 - Negative <br/>\n",
    "    * 2 - Neutral  <br/>"
   ]
  },
  {
   "cell_type": "markdown",
   "metadata": {},
   "source": [
    "## Reading Data"
   ]
  },
  {
   "cell_type": "code",
   "execution_count": 1,
   "metadata": {},
   "outputs": [],
   "source": [
    "import sys\n",
    "import numpy as np\n",
    "import pandas as pd\n",
    "\n",
    "sys.path.append(\"..\")\n",
    "pd.set_option('display.max_colwidth', -1)"
   ]
  },
  {
   "cell_type": "code",
   "execution_count": 2,
   "metadata": {},
   "outputs": [
    {
     "data": {
      "text/plain": [
       "((3100, 3), (970, 3), (776, 3))"
      ]
     },
     "execution_count": 2,
     "metadata": {},
     "output_type": "execute_result"
    }
   ],
   "source": [
    "df_train = pd.read_csv('../datasets/financial_phrasebank/training.csv', sep='\\t')\n",
    "df_test = pd.read_csv('../datasets/financial_phrasebank/testing.csv', sep='\\t')\n",
    "df_val = pd.read_csv('../datasets/financial_phrasebank/validation.csv', sep='\\t')\n",
    "\n",
    "df_train.shape, df_test.shape, df_val.shape"
   ]
  },
  {
   "cell_type": "code",
   "execution_count": 3,
   "metadata": {},
   "outputs": [
    {
     "data": {
      "text/plain": [
       "neutral     1821\n",
       "positive    892 \n",
       "negative    387 \n",
       "Name: label, dtype: int64"
      ]
     },
     "execution_count": 3,
     "metadata": {},
     "output_type": "execute_result"
    }
   ],
   "source": [
    "df_train.label.value_counts()"
   ]
  },
  {
   "cell_type": "code",
   "execution_count": 4,
   "metadata": {},
   "outputs": [
    {
     "data": {
      "text/plain": [
       "neutral     475\n",
       "positive    208\n",
       "negative    93 \n",
       "Name: label, dtype: int64"
      ]
     },
     "execution_count": 4,
     "metadata": {},
     "output_type": "execute_result"
    }
   ],
   "source": [
    "df_val.label.value_counts()"
   ]
  },
  {
   "cell_type": "markdown",
   "metadata": {},
   "source": [
    "## Processing Data in Input format"
   ]
  },
  {
   "cell_type": "code",
   "execution_count": 5,
   "metadata": {},
   "outputs": [],
   "source": [
    "data_classes = ['positive', 'negative', 'neutral']\n",
    "\n",
    "df_train['label'] = df_train['label'].apply(data_classes.index)\n",
    "df_test['label'] = df_test['label'].apply(data_classes.index)\n",
    "df_val['label'] = df_val['label'].apply(data_classes.index)"
   ]
  },
  {
   "cell_type": "code",
   "execution_count": 6,
   "metadata": {},
   "outputs": [
    {
     "data": {
      "text/html": [
       "<div>\n",
       "<style scoped>\n",
       "    .dataframe tbody tr th:only-of-type {\n",
       "        vertical-align: middle;\n",
       "    }\n",
       "\n",
       "    .dataframe tbody tr th {\n",
       "        vertical-align: top;\n",
       "    }\n",
       "\n",
       "    .dataframe thead th {\n",
       "        text-align: right;\n",
       "    }\n",
       "</style>\n",
       "<table border=\"1\" class=\"dataframe\">\n",
       "  <thead>\n",
       "    <tr style=\"text-align: right;\">\n",
       "      <th></th>\n",
       "      <th>Unnamed: 0</th>\n",
       "      <th>text</th>\n",
       "      <th>label</th>\n",
       "    </tr>\n",
       "  </thead>\n",
       "  <tbody>\n",
       "    <tr>\n",
       "      <th>0</th>\n",
       "      <td>178</td>\n",
       "      <td>comparable operating profit totaled EUR 854mn , up from EUR 730mn in 2004 .</td>\n",
       "      <td>0</td>\n",
       "    </tr>\n",
       "    <tr>\n",
       "      <th>1</th>\n",
       "      <td>4157</td>\n",
       "      <td>Finnish M-real 's Kyro mill is starting negotiations to cut staff .</td>\n",
       "      <td>1</td>\n",
       "    </tr>\n",
       "    <tr>\n",
       "      <th>2</th>\n",
       "      <td>3616</td>\n",
       "      <td>In 2007 , the Group 's net sales stood at EUR 42 million and it had about 1,445 employees .</td>\n",
       "      <td>2</td>\n",
       "    </tr>\n",
       "    <tr>\n",
       "      <th>3</th>\n",
       "      <td>194</td>\n",
       "      <td>Finnish lifting equipment maker Konecranes Oyj said on July 30 , 2008 that its net profit rose to 71.2 mln euro ( $ 111.1 mln ) for the first half of 2008 from 57.1 mln euro ( $ 89.1 mln ) for the same period of 2007 .</td>\n",
       "      <td>0</td>\n",
       "    </tr>\n",
       "    <tr>\n",
       "      <th>4</th>\n",
       "      <td>1584</td>\n",
       "      <td>Pulkovo park will be ready in 2016 , its first stage of 23,000 sq. m. will be finished in the first quarter of 2010 .</td>\n",
       "      <td>2</td>\n",
       "    </tr>\n",
       "  </tbody>\n",
       "</table>\n",
       "</div>"
      ],
      "text/plain": [
       "   Unnamed: 0  \\\n",
       "0  178          \n",
       "1  4157         \n",
       "2  3616         \n",
       "3  194          \n",
       "4  1584         \n",
       "\n",
       "                                                                                                                                                                                                                         text  \\\n",
       "0  comparable operating profit totaled EUR 854mn , up from EUR 730mn in 2004 .                                                                                                                                                  \n",
       "1  Finnish M-real 's Kyro mill is starting negotiations to cut staff .                                                                                                                                                          \n",
       "2  In 2007 , the Group 's net sales stood at EUR 42 million and it had about 1,445 employees .                                                                                                                                  \n",
       "3  Finnish lifting equipment maker Konecranes Oyj said on July 30 , 2008 that its net profit rose to 71.2 mln euro ( $ 111.1 mln ) for the first half of 2008 from 57.1 mln euro ( $ 89.1 mln ) for the same period of 2007 .   \n",
       "4  Pulkovo park will be ready in 2016 , its first stage of 23,000 sq. m. will be finished in the first quarter of 2010 .                                                                                                        \n",
       "\n",
       "   label  \n",
       "0  0      \n",
       "1  1      \n",
       "2  2      \n",
       "3  0      \n",
       "4  2      "
      ]
     },
     "execution_count": 6,
     "metadata": {},
     "output_type": "execute_result"
    }
   ],
   "source": [
    "df_test.head()"
   ]
  },
  {
   "cell_type": "code",
   "execution_count": 7,
   "metadata": {},
   "outputs": [],
   "source": [
    "df_bert_train = pd.DataFrame({'id':df_train['Unnamed: 0'],\n",
    "            'text':df_train['text'],\n",
    "            'label':df_train['label']})\n",
    "\n",
    "df_bert_test = pd.DataFrame({'id':df_test['Unnamed: 0'],\n",
    "            'text':df_test['text']})\n",
    "\n",
    "df_bert_val = pd.DataFrame({'id':df_val['Unnamed: 0'],\n",
    "            'text':df_val['text'],\n",
    "            'label':df_val['label']})"
   ]
  },
  {
   "cell_type": "code",
   "execution_count": 8,
   "metadata": {},
   "outputs": [],
   "source": [
    "df_bert_train.to_csv('../datasets/financial_phrasebank/train.csv',index=False)\n",
    "df_bert_test.to_csv('../datasets/financial_phrasebank/test.csv',index=False)\n",
    "df_bert_val.to_csv('../datasets/financial_phrasebank/dev.csv',index=False)"
   ]
  },
  {
   "cell_type": "markdown",
   "metadata": {},
   "source": [
    "## Training Transformers (Albert | Roberta | DistilBert) classifier with FrameWork"
   ]
  },
  {
   "cell_type": "code",
   "execution_count": 9,
   "metadata": {},
   "outputs": [],
   "source": [
    "from classitransformers.report import metrics\n",
    "from classitransformers.configs import Configs\n",
    "from classitransformers.pytransformers import TransformersClassification"
   ]
  },
  {
   "cell_type": "markdown",
   "metadata": {},
   "source": [
    "## Set Configurations\n",
    "\n",
    "* Pre-trained config filepath, vocab filepath and model checkpoint filepath\n",
    "* labels list\n",
    "* train, test and eval batch size\n",
    "* max_seq_len - how long is the each text input sentence !!\n",
    "* data_dir - data path folder (optional)\n",
    "* output_dir - output path folder (optional)"
   ]
  },
  {
   "cell_type": "code",
   "execution_count": 10,
   "metadata": {},
   "outputs": [],
   "source": [
    "config = Configs(\n",
    "                pretrained_model_dir = '../models/DistilBert',\n",
    "                model_name = 'distilbert',\n",
    "                num_train_epochs=3,\n",
    "                train_batch_size = 16,\n",
    "                eval_batch_size = 8, \n",
    "                do_train = True, \n",
    "                do_eval = True, \n",
    "                max_seq_length = 64,\n",
    "                label_list = [\"0\", \"1\", \"2\"],\n",
    "                data_dir = '../datasets/financial_phrasebank/',\n",
    "                output_dir = '../transformers_output_sentiment/')"
   ]
  },
  {
   "cell_type": "code",
   "execution_count": 11,
   "metadata": {},
   "outputs": [],
   "source": [
    "model = TransformersClassification(config)"
   ]
  },
  {
   "cell_type": "markdown",
   "metadata": {},
   "source": [
    "## Train Method"
   ]
  },
  {
   "cell_type": "code",
   "execution_count": 12,
   "metadata": {
    "scrolled": true
   },
   "outputs": [
    {
     "name": "stdout",
     "output_type": "stream",
     "text": [
      "\n",
      "======== Epoch 1 / 3 ========\n",
      "Training...\n",
      "  Batch    40  of    194.    Elapsed: 0:00:08.\n",
      "  Batch    80  of    194.    Elapsed: 0:00:15.\n",
      "  Batch   120  of    194.    Elapsed: 0:00:23.\n",
      "  Batch   160  of    194.    Elapsed: 0:00:31.\n",
      "\n",
      "  Average training loss: 0.64\n",
      "  Training epcoh took: 0:00:37\n",
      "\n",
      "Running Validation...\n",
      "  Accuracy: 0.83\n",
      "  Validation Loss: 0.00\n",
      "  Validation took: 0:00:03\n",
      "\n",
      "======== Epoch 2 / 3 ========\n",
      "Training...\n",
      "  Batch    40  of    194.    Elapsed: 0:00:08.\n",
      "  Batch    80  of    194.    Elapsed: 0:00:15.\n",
      "  Batch   120  of    194.    Elapsed: 0:00:23.\n",
      "  Batch   160  of    194.    Elapsed: 0:00:31.\n",
      "\n",
      "  Average training loss: 0.28\n",
      "  Training epcoh took: 0:00:37\n",
      "\n",
      "Running Validation...\n",
      "  Accuracy: 0.85\n",
      "  Validation Loss: 0.00\n",
      "  Validation took: 0:00:03\n",
      "\n",
      "======== Epoch 3 / 3 ========\n",
      "Training...\n",
      "  Batch    40  of    194.    Elapsed: 0:00:08.\n",
      "  Batch    80  of    194.    Elapsed: 0:00:15.\n",
      "  Batch   120  of    194.    Elapsed: 0:00:23.\n",
      "  Batch   160  of    194.    Elapsed: 0:00:31.\n",
      "\n",
      "  Average training loss: 0.11\n",
      "  Training epcoh took: 0:00:38\n",
      "\n",
      "Running Validation...\n",
      "  Accuracy: 0.84\n",
      "  Validation Loss: 0.00\n",
      "  Validation took: 0:00:03\n",
      "Saving model to ../transformers_output_sentiment/\n",
      "\n",
      "Training complete!\n",
      "Total training took 0:02:03 (h:mm:ss)\n"
     ]
    }
   ],
   "source": [
    "model.train()"
   ]
  },
  {
   "cell_type": "markdown",
   "metadata": {},
   "source": [
    "## Model Test"
   ]
  },
  {
   "cell_type": "code",
   "execution_count": 13,
   "metadata": {},
   "outputs": [],
   "source": [
    "prediction = model.test()"
   ]
  },
  {
   "cell_type": "markdown",
   "metadata": {},
   "source": [
    "**Testing a sentence, takes a list of sentences.**"
   ]
  },
  {
   "cell_type": "code",
   "execution_count": 14,
   "metadata": {},
   "outputs": [
    {
     "data": {
      "text/plain": [
       "[array([0.9197695 , 0.07576627, 0.48963723], dtype=float32)]"
      ]
     },
     "execution_count": 14,
     "metadata": {},
     "output_type": "execute_result"
    }
   ],
   "source": [
    "model.text_inference(['Trading gives the best returns among all the options of investemnts'])"
   ]
  },
  {
   "cell_type": "code",
   "execution_count": 15,
   "metadata": {},
   "outputs": [],
   "source": [
    "y_pred = [np.argmax(tup) for tup in prediction]\n",
    "y = df_test.label"
   ]
  },
  {
   "cell_type": "markdown",
   "metadata": {},
   "source": [
    "## Accuracy and Report"
   ]
  },
  {
   "cell_type": "code",
   "execution_count": 16,
   "metadata": {},
   "outputs": [
    {
     "name": "stdout",
     "output_type": "stream",
     "text": [
      "\n",
      "\n",
      "Accuracy: 0.866\n",
      "Precision: 0.845\n",
      "Recall: 0.838\n",
      "F1-Score: 0.842\n"
     ]
    },
    {
     "data": {
      "image/png": "[encoded data removed]",
      "text/plain": [
       "<Figure size 432x288 with 2 Axes>"
      ]
     },
     "metadata": {},
     "output_type": "display_data"
    }
   ],
   "source": [
    "metrics(y, y_pred)"
   ]
  }
 ],
 "metadata": {
  "kernelspec": {
   "display_name": "conda_pytorch_p36",
   "language": "python",
   "name": "conda_pytorch_p36"
  },
  "language_info": {
   "codemirror_mode": {
    "name": "ipython",
    "version": 3
   },
   "file_extension": ".py",
   "mimetype": "text/x-python",
   "name": "python",
   "nbconvert_exporter": "python",
   "pygments_lexer": "ipython3",
   "version": "3.6.5"
  }
 },
 "nbformat": 4,
 "nbformat_minor": 2
}
