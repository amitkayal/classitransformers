{
 "cells": [
  {
   "cell_type": "markdown",
   "metadata": {},
   "source": [
    "# Pytorch Framework for Multi-class Text Classification"
   ]
  },
  {
   "cell_type": "markdown",
   "metadata": {},
   "source": [
    "## BBC News Classification - 5 Class Problem\n",
    "\n",
    "* Consists of 2225 documents from the BBC news website corresponding to stories in five topical areas from 2004-2005.\n",
    "* Class Labels: 5 <br/>\n",
    "\n",
    "    0 - Business <br/>\n",
    "    1 - Sport <br/>\n",
    "    2 - Politics <br/> \n",
    "    3 - Tech <br/>\n",
    "    4 - Entertainment "
   ]
  },
  {
   "cell_type": "markdown",
   "metadata": {},
   "source": [
    "## Reading Data"
   ]
  },
  {
   "cell_type": "code",
   "execution_count": 1,
   "metadata": {},
   "outputs": [],
   "source": [
    "import sys\n",
    "import numpy as np\n",
    "import pandas as pd\n",
    "\n",
    "sys.path.append(\"..\")\n",
    "pd.set_option('display.max_colwidth', -1)"
   ]
  },
  {
   "cell_type": "code",
   "execution_count": 2,
   "metadata": {},
   "outputs": [
    {
     "data": {
      "text/plain": [
       "((1424, 3), (445, 2), (356, 3))"
      ]
     },
     "execution_count": 2,
     "metadata": {},
     "output_type": "execute_result"
    }
   ],
   "source": [
    "df_train = pd.read_csv('../datasets/bbcfull/train.csv')\n",
    "df_test = pd.read_csv('../datasets/bbcfull/test.csv')\n",
    "df_score = pd.read_csv('../datasets/bbcfull/test_with_label.csv')\n",
    "df_val = pd.read_csv('../datasets/bbcfull/dev.csv')\n",
    "df_train.shape, df_test.shape, df_val.shape"
   ]
  },
  {
   "cell_type": "code",
   "execution_count": 3,
   "metadata": {},
   "outputs": [
    {
     "data": {
      "text/plain": [
       "1    327\n",
       "0    326\n",
       "2    267\n",
       "3    257\n",
       "4    247\n",
       "Name: label, dtype: int64"
      ]
     },
     "execution_count": 3,
     "metadata": {},
     "output_type": "execute_result"
    }
   ],
   "source": [
    "df_train.label.value_counts()"
   ]
  },
  {
   "cell_type": "code",
   "execution_count": 4,
   "metadata": {},
   "outputs": [
    {
     "data": {
      "text/plain": [
       "1    82\n",
       "0    82\n",
       "2    66\n",
       "3    64\n",
       "4    62\n",
       "Name: label, dtype: int64"
      ]
     },
     "execution_count": 4,
     "metadata": {},
     "output_type": "execute_result"
    }
   ],
   "source": [
    "df_val.label.value_counts()"
   ]
  },
  {
   "cell_type": "code",
   "execution_count": 5,
   "metadata": {},
   "outputs": [
    {
     "data": {
      "text/plain": [
       "1    102\n",
       "0    102\n",
       "2    84 \n",
       "3    80 \n",
       "4    77 \n",
       "Name: label, dtype: int64"
      ]
     },
     "execution_count": 5,
     "metadata": {},
     "output_type": "execute_result"
    }
   ],
   "source": [
    "df_score.label.value_counts()"
   ]
  },
  {
   "cell_type": "markdown",
   "metadata": {},
   "source": [
    "## Training Transformers (Albert | Roberta | DistilBert) classifier with FrameWork"
   ]
  },
  {
   "cell_type": "code",
   "execution_count": 6,
   "metadata": {},
   "outputs": [],
   "source": [
    "from classitransformers.report import metrics\n",
    "from classitransformers.configs import Configs\n",
    "from classitransformers.pytransformers import TransformersClassification"
   ]
  },
  {
   "cell_type": "markdown",
   "metadata": {},
   "source": [
    "## Set Configurations\n",
    "\n",
    "* Pre-trained folderpath\n",
    "* labels list\n",
    "* train, test and eval batch size\n",
    "* max_seq_len - how long is the each text input sentence !!\n",
    "* data_dir - data path folder (optional)\n",
    "* output_dir - output path folder (optional)"
   ]
  },
  {
   "cell_type": "code",
   "execution_count": 7,
   "metadata": {},
   "outputs": [],
   "source": [
    "config = Configs(\n",
    "                pretrained_model_dir = '../models/Roberta',\n",
    "                model_name = 'roberta',\n",
    "                num_train_epochs=3,\n",
    "                train_batch_size = 16,\n",
    "                eval_batch_size = 8, \n",
    "                do_train = True, \n",
    "                do_eval = True, \n",
    "                max_seq_length = 256,\n",
    "                label_list = [\"0\", \"1\", \"2\", \"3\", \"4\"],\n",
    "                data_dir = '../datasets/bbcfull',\n",
    "                output_dir = '../transformers_output_bbcnews/')"
   ]
  },
  {
   "cell_type": "code",
   "execution_count": 8,
   "metadata": {},
   "outputs": [],
   "source": [
    "model = TransformersClassification(config)"
   ]
  },
  {
   "cell_type": "markdown",
   "metadata": {},
   "source": [
    "## Train Method"
   ]
  },
  {
   "cell_type": "code",
   "execution_count": 9,
   "metadata": {
    "scrolled": true
   },
   "outputs": [
    {
     "name": "stdout",
     "output_type": "stream",
     "text": [
      "\n",
      "======== Epoch 1 / 3 ========\n",
      "Training...\n",
      "  Batch    40  of     89.    Elapsed: 0:00:52.\n",
      "  Batch    80  of     89.    Elapsed: 0:01:44.\n",
      "\n",
      "  Average training loss: 0.59\n",
      "  Training epcoh took: 0:01:56\n",
      "\n",
      "Running Validation...\n",
      "  Accuracy: 0.99\n",
      "  Validation Loss: 0.00\n",
      "  Validation took: 0:00:10\n",
      "\n",
      "======== Epoch 2 / 3 ========\n",
      "Training...\n",
      "  Batch    40  of     89.    Elapsed: 0:00:52.\n",
      "  Batch    80  of     89.    Elapsed: 0:01:44.\n",
      "\n",
      "  Average training loss: 0.07\n",
      "  Training epcoh took: 0:01:56\n",
      "\n",
      "Running Validation...\n",
      "  Accuracy: 0.98\n",
      "  Validation Loss: 0.00\n",
      "  Validation took: 0:00:10\n",
      "\n",
      "======== Epoch 3 / 3 ========\n",
      "Training...\n",
      "  Batch    40  of     89.    Elapsed: 0:00:52.\n",
      "  Batch    80  of     89.    Elapsed: 0:01:44.\n",
      "\n",
      "  Average training loss: 0.03\n",
      "  Training epcoh took: 0:01:56\n",
      "\n",
      "Running Validation...\n",
      "  Accuracy: 0.98\n",
      "  Validation Loss: 0.00\n",
      "  Validation took: 0:00:10\n",
      "Saving model to ../transformers_output_bbcnews/\n",
      "\n",
      "Training complete!\n",
      "Total training took 0:06:25 (h:mm:ss)\n"
     ]
    }
   ],
   "source": [
    "model.train()"
   ]
  },
  {
   "cell_type": "markdown",
   "metadata": {},
   "source": [
    "## Test Method"
   ]
  },
  {
   "cell_type": "code",
   "execution_count": 10,
   "metadata": {},
   "outputs": [],
   "source": [
    "prediction = model.test()"
   ]
  },
  {
   "cell_type": "markdown",
   "metadata": {},
   "source": [
    "**Testing a sentence, takes a list of sentences.**"
   ]
  },
  {
   "cell_type": "code",
   "execution_count": 11,
   "metadata": {},
   "outputs": [
    {
     "data": {
      "text/plain": [
       "[array([0.99918574, 0.19028524, 0.2688493 , 0.23254088, 0.17762943],\n",
       "       dtype=float32)]"
      ]
     },
     "execution_count": 11,
     "metadata": {},
     "output_type": "execute_result"
    }
   ],
   "source": [
    "model.text_inference(['He is very good in writing a book on financial investment money making strategy. There are some transactional charges but the profit we make is awesome. The business people are exchanging bulk money over trades happening every seconds. Even retailers are happy doing trade and adding sum to their investments.'])"
   ]
  },
  {
   "cell_type": "code",
   "execution_count": 12,
   "metadata": {},
   "outputs": [],
   "source": [
    "y_pred = [np.argmax(tup) for tup in prediction]\n",
    "y = df_score.label"
   ]
  },
  {
   "cell_type": "markdown",
   "metadata": {},
   "source": [
    "## Accuracy and Report"
   ]
  },
  {
   "cell_type": "code",
   "execution_count": 13,
   "metadata": {},
   "outputs": [
    {
     "name": "stdout",
     "output_type": "stream",
     "text": [
      "\n",
      "\n",
      "Accuracy: 0.984\n",
      "Precision: 0.984\n",
      "Recall: 0.985\n",
      "F1-Score: 0.985\n"
     ]
    },
    {
     "data": {
      "image/png": "[encoded data removed]",
      "text/plain": [
       "<Figure size 432x288 with 2 Axes>"
      ]
     },
     "metadata": {},
     "output_type": "display_data"
    }
   ],
   "source": [
    "metrics(y, y_pred)"
   ]
  }
 ],
 "metadata": {
  "kernelspec": {
   "display_name": "conda_pytorch_p36",
   "language": "python",
   "name": "conda_pytorch_p36"
  },
  "language_info": {
   "codemirror_mode": {
    "name": "ipython",
    "version": 3
   },
   "file_extension": ".py",
   "mimetype": "text/x-python",
   "name": "python",
   "nbconvert_exporter": "python",
   "pygments_lexer": "ipython3",
   "version": "3.6.5"
  }
 },
 "nbformat": 4,
 "nbformat_minor": 2
}
