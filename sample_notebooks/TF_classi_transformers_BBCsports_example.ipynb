{
 "cells": [
  {
   "cell_type": "markdown",
   "metadata": {},
   "source": [
    "# Tensorflow Framework for Multi-class Text Classification"
   ]
  },
  {
   "cell_type": "markdown",
   "metadata": {},
   "source": [
    "## BBC News Classification - 5 Class Problem\n",
    "\n",
    "* Consists of 737 documents from the BBC Sport website corresponding to sports news articles in five topical areas from 2004-2005.\n",
    "* Class Labels: 5 <br/>\n",
    "\n",
    "    0 - Rugby <br/>\n",
    "    1 - Tennis <br/>\n",
    "    2 - Football <br/>\n",
    "    3 - Cricket <br/>\n",
    "    4 - Atheletics <br/>"
   ]
  },
  {
   "cell_type": "markdown",
   "metadata": {},
   "source": [
    "## Reading Data"
   ]
  },
  {
   "cell_type": "code",
   "execution_count": 1,
   "metadata": {},
   "outputs": [],
   "source": [
    "import sys\n",
    "import numpy as np\n",
    "import pandas as pd\n",
    "\n",
    "sys.path.append(\"..\")\n",
    "pd.set_option('display.max_colwidth', -1)"
   ]
  },
  {
   "cell_type": "code",
   "execution_count": 2,
   "metadata": {},
   "outputs": [
    {
     "data": {
      "text/plain": [
       "((471, 3), (148, 2), (118, 3))"
      ]
     },
     "execution_count": 2,
     "metadata": {},
     "output_type": "execute_result"
    }
   ],
   "source": [
    "df_train = pd.read_csv('../datasets/bbcsports/train.csv')\n",
    "df_test = pd.read_csv('../datasets/bbcsports/test.csv')\n",
    "df_score = pd.read_csv('../datasets/bbcsports/test_with_label.csv')\n",
    "df_val = pd.read_csv('../datasets/bbcsports/dev.csv')\n",
    "df_train.shape, df_test.shape, df_val.shape"
   ]
  },
  {
   "cell_type": "code",
   "execution_count": 3,
   "metadata": {},
   "outputs": [
    {
     "data": {
      "text/plain": [
       "2    169\n",
       "0    94 \n",
       "3    79 \n",
       "4    65 \n",
       "1    64 \n",
       "Name: label, dtype: int64"
      ]
     },
     "execution_count": 3,
     "metadata": {},
     "output_type": "execute_result"
    }
   ],
   "source": [
    "df_train.label.value_counts()"
   ]
  },
  {
   "cell_type": "code",
   "execution_count": 4,
   "metadata": {},
   "outputs": [
    {
     "data": {
      "text/plain": [
       "2    43\n",
       "0    23\n",
       "3    20\n",
       "4    16\n",
       "1    16\n",
       "Name: label, dtype: int64"
      ]
     },
     "execution_count": 4,
     "metadata": {},
     "output_type": "execute_result"
    }
   ],
   "source": [
    "df_val.label.value_counts()"
   ]
  },
  {
   "cell_type": "code",
   "execution_count": 5,
   "metadata": {},
   "outputs": [
    {
     "data": {
      "text/plain": [
       "2    53\n",
       "0    30\n",
       "3    25\n",
       "4    20\n",
       "1    20\n",
       "Name: label, dtype: int64"
      ]
     },
     "execution_count": 5,
     "metadata": {},
     "output_type": "execute_result"
    }
   ],
   "source": [
    "df_score.label.value_counts()"
   ]
  },
  {
   "cell_type": "markdown",
   "metadata": {},
   "source": [
    "## Training (Bert | Electra) classifier with FrameWork"
   ]
  },
  {
   "cell_type": "code",
   "execution_count": 6,
   "metadata": {},
   "outputs": [
    {
     "name": "stdout",
     "output_type": "stream",
     "text": [
      "WARNING:tensorflow:From /home/ec2-user/anaconda3/envs/tensorflow_p36/lib/python3.6/site-packages/tensorflow_core/__init__.py:1467: The name tf.estimator.inputs is deprecated. Please use tf.compat.v1.estimator.inputs instead.\n",
      "\n"
     ]
    }
   ],
   "source": [
    "from classitransformers.report import metrics\n",
    "from classitransformers.configs import Configs\n",
    "\n",
    "from classitransformers.tfelectra import ElectraClassification #(for using Electra)\n",
    "\n",
    "#from classitransformers.tfbert import BertClassification"
   ]
  },
  {
   "cell_type": "markdown",
   "metadata": {},
   "source": [
    "## Set Configurations\n",
    "\n",
    "* Pre-trained config filepath, vocab filepath and model checkpoint filepath\n",
    "* labels list\n",
    "* train, test and eval batch size\n",
    "* max_seq_len - how long is the each text input sentence !!\n",
    "* data_dir - data path folder (optional)\n",
    "* output_dir - output path folder (optional)"
   ]
  },
  {
   "cell_type": "code",
   "execution_count": 7,
   "metadata": {},
   "outputs": [
    {
     "name": "stdout",
     "output_type": "stream",
     "text": [
      "================================================================================\n",
      "Config: model=electra, trial 1/1\n",
      "================================================================================\n",
      "data_dir ../datasets/bbcsports/\n",
      "do_eval True\n",
      "do_lower_case True\n",
      "do_predict False\n",
      "do_train True\n",
      "embedding_size None\n",
      "eval_batch_size 8\n",
      "gcp_project None\n",
      "init_checkpoint ../models/Electra_base/\n",
      "iterations_per_loop 1000\n",
      "keep_all_models True\n",
      "label_list ['0', '1', '2', '3', '4']\n",
      "layerwise_lr_decay 0.8\n",
      "learning_rate 5e-05\n",
      "log_examples False\n",
      "master None\n",
      "max_seq_length 256\n",
      "model_hparam_overrides {}\n",
      "model_name electra\n",
      "model_size base\n",
      "num_tpu_cores 1\n",
      "num_train_epochs 3\n",
      "num_trials 1\n",
      "output_dir ../electra_output_sports/\n",
      "predict_batch_size 8\n",
      "pretrained_model_dir ../models/Electra_base/\n",
      "save_checkpoints_steps 1000000\n",
      "task_names ['textclassification']\n",
      "tasks {'textclassification': {'type': 'classification', 'labels': ['0', '1', '2', '3', '4'], 'header': True, 'text_column': 1, 'label_column': 2}}\n",
      "tpu_job_name None\n",
      "tpu_name None\n",
      "tpu_zone None\n",
      "train_batch_size 16\n",
      "use_tfrecords_if_existing False\n",
      "use_tpu False\n",
      "vocab_file ../models/Electra_base/vocab.txt\n",
      "vocab_size 30522\n",
      "warmup_proportion 0.1\n",
      "weight_decay_rate 0.01\n",
      "\n",
      "Loading dataset textclassification_train\n",
      "Existing tfrecords not found so creating\n",
      "Writing example 0 of 471\n"
     ]
    }
   ],
   "source": [
    "# config = Configs(pretrained_model_dir = '../models/Bert_base',\n",
    "#                  num_train_epochs = 3,\n",
    "#                  train_batch_size = 16, \n",
    "#                  eval_batch_size = 8, \n",
    "#                  predict_batch_size = 8, \n",
    "#                  do_train = True, \n",
    "#                  do_eval = True, \n",
    "#                  label_list = [\"0\", \"1\", \"2\", \"3\", \"4\"], \n",
    "#                  max_seq_length = 256, \n",
    "#                  data_dir='../datasets/bbcsports/',\n",
    "#                  output_dir = '../bert_output_bbcsports/')\n",
    "\n",
    "\n",
    "# model = BertClassification(config)\n",
    "\n",
    "\n",
    "config = Configs(pretrained_model_dir = '../models/Electra_base/',\n",
    "              model_name='electra',\n",
    "              num_train_epochs=3, \n",
    "              train_batch_size = 16,\n",
    "              eval_batch_size = 8, \n",
    "              do_train = True, \n",
    "              do_eval = True, \n",
    "              label_list = [\"0\", \"1\", \"2\", \"3\", \"4\"],\n",
    "              max_seq_length = 256,\n",
    "              data_dir = \"../datasets/bbcsports/\", \n",
    "              output_dir = \"../electra_output_sports/\")\n",
    "\n",
    "model = ElectraClassification(config) "
   ]
  },
  {
   "cell_type": "markdown",
   "metadata": {},
   "source": [
    "## Train Method"
   ]
  },
  {
   "cell_type": "code",
   "execution_count": 8,
   "metadata": {
    "scrolled": true
   },
   "outputs": [
    {
     "name": "stdout",
     "output_type": "stream",
     "text": [
      "================================================================================\n",
      "Start training\n",
      "================================================================================\n",
      "Training for 90 steps\n",
      "Building model...\n",
      "Building complete\n",
      "10/90 = 11.1%, SPS: 0.3, ELAP: 31, ETA: 4:10 - loss: 22.2336\n",
      "20/90 = 22.2%, SPS: 0.4, ELAP: 48, ETA: 2:48 - loss: 19.4345\n",
      "30/90 = 33.3%, SPS: 0.5, ELAP: 1:05, ETA: 2:10 - loss: 18.7599\n",
      "40/90 = 44.4%, SPS: 0.5, ELAP: 1:22, ETA: 1:43 - loss: 6.0089\n",
      "50/90 = 55.6%, SPS: 0.5, ELAP: 1:39, ETA: 1:19 - loss: 6.5244\n",
      "60/90 = 66.7%, SPS: 0.5, ELAP: 1:56, ETA: 58 - loss: 0.8747\n",
      "70/90 = 77.8%, SPS: 0.5, ELAP: 2:14, ETA: 38 - loss: 0.6737\n",
      "80/90 = 88.9%, SPS: 0.5, ELAP: 2:31, ETA: 19 - loss: 0.1257\n",
      "90/90 = 100.0%, SPS: 0.5, ELAP: 2:48, ETA: 0 - loss: 0.0573\n",
      "90/90 = 100.0%, SPS: 0.5, ELAP: 2:50, ETA: 0\n",
      "================================================================================\n",
      "Training Finished\n",
      "================================================================================\n",
      "================================================================================\n",
      "Start Evaluation\n",
      "================================================================================\n",
      "Evaluating textclassification\n",
      "Loading dataset textclassification_dev\n",
      "Existing tfrecords not found so creating\n",
      "Writing example 0 of 118\n",
      "Building model...\n",
      "Building complete\n",
      "textclassification: accuracy: 95.76 - loss: 0.11\n",
      "\n"
     ]
    }
   ],
   "source": [
    "model.train()"
   ]
  },
  {
   "cell_type": "markdown",
   "metadata": {},
   "source": [
    "## Test Methods"
   ]
  },
  {
   "cell_type": "code",
   "execution_count": 9,
   "metadata": {},
   "outputs": [
    {
     "name": "stdout",
     "output_type": "stream",
     "text": [
      "Writing out predictions for [Task(textclassification)] test\n",
      "Loading dataset textclassification_test\n",
      "Existing tfrecords not found so creating\n",
      "Writing example 0 of 148\n",
      "Building model...\n",
      "Building complete\n",
      "Getting predictions for 148 textclassification examples (test)\n"
     ]
    }
   ],
   "source": [
    "prediction = model.test()"
   ]
  },
  {
   "cell_type": "markdown",
   "metadata": {},
   "source": [
    "**Testing a sentence, takes a list of sentences.**"
   ]
  },
  {
   "cell_type": "code",
   "execution_count": 10,
   "metadata": {},
   "outputs": [
    {
     "name": "stdout",
     "output_type": "stream",
     "text": [
      "Writing out predictions for [Task(textclassification)] infer\n",
      "Loading dataset textclassification_infer\n",
      "Existing tfrecords not found so creating\n",
      "Writing example 0 of 1\n",
      "Building model...\n",
      "Building complete\n",
      "Getting predictions for 1 textclassification examples (infer)\n"
     ]
    },
    {
     "data": {
      "text/plain": [
       "[array([0.04234521, 0.99357986, 0.14866598, 0.5092559 , 0.16855492],\n",
       "       dtype=float32)]"
      ]
     },
     "execution_count": 10,
     "metadata": {},
     "output_type": "execute_result"
    }
   ],
   "source": [
    "model.text_inference(['Rodger Fedrer is one of the great tennis player. Rafael Nadal is very good player at clay court. They have combined won more than 30 grand slams till now.'])"
   ]
  },
  {
   "cell_type": "markdown",
   "metadata": {},
   "source": [
    "## Export the checkpoint model to pb (protobuf) format\n",
    "\n",
    "**In TensorFlow, the protbuf file contains the graph definition as well as the weights of the model. Thus, a pb file is all you need to be able to run a given trained model.**\n",
    "\n",
    "Only support of Bert for now"
   ]
  },
  {
   "cell_type": "code",
   "execution_count": 11,
   "metadata": {
    "scrolled": true
   },
   "outputs": [],
   "source": [
    "# Currently does not have support for Electra\n",
    "\n",
    "# model.export_model()"
   ]
  },
  {
   "cell_type": "markdown",
   "metadata": {},
   "source": [
    "## Inferencing from Trained Pb Model\n",
    "\n",
    "* This tensorflow format is used for deployment purpose."
   ]
  },
  {
   "cell_type": "code",
   "execution_count": 12,
   "metadata": {},
   "outputs": [],
   "source": [
    "# Not supported for Electra\n",
    "\n",
    "# predictions = model.inference(test_filename = '../datasets/bbcsports/test.csv', batch_size = 256)"
   ]
  },
  {
   "cell_type": "code",
   "execution_count": 13,
   "metadata": {},
   "outputs": [],
   "source": [
    "y_pred = [np.argmax(tup) for tup in prediction]\n",
    "y = df_score.label"
   ]
  },
  {
   "cell_type": "markdown",
   "metadata": {},
   "source": [
    "## Accuracy and Report"
   ]
  },
  {
   "cell_type": "code",
   "execution_count": 15,
   "metadata": {},
   "outputs": [
    {
     "name": "stdout",
     "output_type": "stream",
     "text": [
      "\n",
      "\n",
      "Accuracy: 0.993\n",
      "Precision: 0.994\n",
      "Recall: 0.996\n",
      "F1-Score: 0.995\n"
     ]
    },
    {
     "data": {
      "image/png": "[encoded data removed]",
      "text/plain": [
       "<Figure size 432x288 with 2 Axes>"
      ]
     },
     "metadata": {},
     "output_type": "display_data"
    }
   ],
   "source": [
    "metrics(y, y_pred)"
   ]
  }
 ],
 "metadata": {
  "kernelspec": {
   "display_name": "conda_tensorflow_p36",
   "language": "python",
   "name": "conda_tensorflow_p36"
  },
  "language_info": {
   "codemirror_mode": {
    "name": "ipython",
    "version": 3
   },
   "file_extension": ".py",
   "mimetype": "text/x-python",
   "name": "python",
   "nbconvert_exporter": "python",
   "pygments_lexer": "ipython3",
   "version": "3.6.6"
  }
 },
 "nbformat": 4,
 "nbformat_minor": 2
}
